{
 "cells": [
  {
   "cell_type": "code",
   "execution_count": 80,
   "metadata": {
    "collapsed": true
   },
   "outputs": [],
   "source": [
    "import sys,os"
   ]
  },
  {
   "cell_type": "code",
   "execution_count": 81,
   "metadata": {
    "collapsed": true
   },
   "outputs": [],
   "source": [
    "def reformat_piont_number(id) :\n",
    "    dict={\"1\":\"A_Env\",\"2\":\"A_PVD\",\"3\":\"A_Bnv\",\"4\":\"A_Cnv\",\"5\":\"A_dnv\",\"6\":\"A_env\",\"7\":\"A_fnv\",\n",
    "          \"8\":\"A_gnv\",\"9\":\"A_hnv\",\"10\":\"A_inv\",\"11\":\"A_jnv\",\"12\":\"A_knv\",\"13\":\"B_lnv\",\"14\":\"B_mnv\",\n",
    "          \"15\":\"B_nnv\",\"16\":\"B_onv\",\"17\":\"B_pnv\",\"18\":\"B_qnv\",\"19\":\"B_rnv\",\"20\":\"B_snv\",\"21\":\"B_tnv\",\n",
    "          \"22\":\"B_unv\",\"23\":\"B_vnv\",\"24\":\"B_wnv\",\"25\":\"C_xnv\",\"26\":\"C_ynv\",\"27\":\"C_znv\",\"28\":\"C_aa\",\n",
    "          \"29\":\"C_bb\",\"30\":\"C_cc\",\"31\":\"C_dd\",\"32\":\"C_ee\",\"33\":\"C_hh\"}\n",
    "    temp = dict[id.strip()]\n",
    "    print(temp)\n",
    "    return temp"
   ]
  },
  {
   "cell_type": "code",
   "execution_count": 82,
   "metadata": {
    "collapsed": true
   },
   "outputs": [],
   "source": [
    "def reformat_datetime(dt) :\n",
    "    fields = dt.split(' ')\n",
    "    print (fields[0])\n",
    "    y, m, d = fields[0].split('/')\n",
    "    t = fields[1] + ':00'\n",
    "    return y + '-' + m + '-' + d + ' ' + t "
   ]
  },
  {
   "cell_type": "code",
   "execution_count": 87,
   "metadata": {},
   "outputs": [
    {
     "name": "stdout",
     "output_type": "stream",
     "text": [
      "2018/05/09\n",
      "2018-05-09 0:00:00,1.300000,F11_A_Env,NH3\n",
      "2018/05/09\n",
      "2018-05-09 0:00:00,1.300000,F11_A_Cnv,NH3\n",
      "2018/05/09\n",
      "2018-05-09 0:00:00,1.300000,F11_A_dnv,NH3\n",
      "2018/05/09\n",
      "2018-05-09 0:00:00,1.300000,F11_A_hnv,NH3\n",
      "2018/05/09\n",
      "2018-05-09 0:00:00,1.300000,F11_A_jnv,NH3\n",
      "2018/05/09\n",
      "2018-05-09 0:00:00,1.300000,F11_A_knv,NH3\n",
      "2018/05/09\n",
      "2018-05-09 0:00:00,1.300000,F11_B_onv,NH3\n",
      "2018/05/09\n",
      "2018-05-09 0:00:00,1.300000,F11_B_tnv,NH3\n",
      "2018/05/09\n",
      "2018-05-09 0:00:00,1.300000,F11_C_znv,NH3\n",
      "2018/05/09\n",
      "2018-05-09 0:00:00,1.300000,F11_C_aa,NH3\n",
      "2018/05/09\n",
      "2018-05-09 0:30:00,1.300000,F11_A_Env,NH3\n",
      "2018/05/09\n",
      "2018-05-09 0:30:00,1.300000,F11_A_Cnv,NH3\n",
      "2018/05/09\n",
      "2018-05-09 0:30:00,1.300000,F11_A_dnv,NH3\n",
      "2018/05/09\n",
      "2018-05-09 0:30:00,1.300000,F11_A_hnv,NH3\n",
      "2018/05/09\n",
      "2018-05-09 0:30:00,1.300000,F11_A_jnv,NH3\n",
      "2018/05/09\n",
      "2018-05-09 0:30:00,1.300000,F11_A_knv,NH3\n",
      "2018/05/09\n",
      "2018-05-09 0:30:00,1.300000,F11_B_onv,NH3\n",
      "2018/05/09\n",
      "2018-05-09 0:30:00,1.300000,F11_B_tnv,NH3\n",
      "2018/05/09\n",
      "2018-05-09 0:30:00,1.300000,F11_C_znv,NH3\n",
      "2018/05/09\n",
      "2018-05-09 0:30:00,1.300000,F11_C_aa,NH3\n"
     ]
    }
   ],
   "source": [
    "dict={\"1\":\"A_Env\",\"2\":\"A_PVD\",\"3\":\"A_Bnv\",\"4\":\"A_Cnv\",\"5\":\"A_dnv\",\"6\":\"A_env\",\"7\":\"A_fnv\",\n",
    "          \"8\":\"A_gnv\",\"9\":\"A_hnv\",\"10\":\"A_inv\",\"11\":\"A_jnv\",\"12\":\"A_knv\",\"13\":\"B_lnv\",\"14\":\"B_mnv\",\n",
    "          \"15\":\"B_nnv\",\"16\":\"B_onv\",\"17\":\"B_pnv\",\"18\":\"B_qnv\",\"19\":\"B_rnv\",\"20\":\"B_snv\",\"21\":\"B_tnv\",\n",
    "          \"22\":\"B_unv\",\"23\":\"B_vnv\",\"24\":\"B_wnv\",\"25\":\"C_xnv\",\"26\":\"C_ynv\",\"27\":\"C_znv\",\"28\":\"C_aa\",\n",
    "          \"29\":\"C_bb\",\"30\":\"C_cc\",\"31\":\"C_dd\",\"32\":\"C_ee\",\"33\":\"C_hh\"}\n",
    "\n",
    "with open('C:/Users/USER/Desktop/test_data.csv', 'rt') as f :\n",
    "    lines = f.readlines()\n",
    "    for line in lines [1:] :\n",
    "        #print(line)\n",
    "        #print('------------------------')\n",
    "        fields = line.split(',')\n",
    "        dt_real = reformat_datetime(fields[0])\n",
    "        #print (fields)\n",
    "        # new_id = reformat_piont_number(fields[1])\n",
    "        temp = dict[fields[1].strip()]\n",
    "        #print\n",
    "        #print(fields[1])\n",
    "        print('%s,%f,%s,%s' % (dt_real,float(field[3]),'F11_' + temp,'NH3'))"
   ]
  },
  {
   "cell_type": "code",
   "execution_count": null,
   "metadata": {
    "collapsed": true
   },
   "outputs": [],
   "source": []
  }
 ],
 "metadata": {
  "kernelspec": {
   "display_name": "Python 3",
   "language": "python",
   "name": "python3"
  },
  "language_info": {
   "codemirror_mode": {
    "name": "ipython",
    "version": 3
   },
   "file_extension": ".py",
   "mimetype": "text/x-python",
   "name": "python",
   "nbconvert_exporter": "python",
   "pygments_lexer": "ipython3",
   "version": "3.6.3"
  }
 },
 "nbformat": 4,
 "nbformat_minor": 2
}
